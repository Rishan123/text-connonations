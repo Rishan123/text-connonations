{
 "cells": [
  {
   "cell_type": "markdown",
   "id": "81ae9da8-e1f1-4a92-bb86-418734ea5b35",
   "metadata": {},
   "source": [
    "# Finding the accuracy of a model #"
   ]
  },
  {
   "cell_type": "markdown",
   "id": "598aa23a-4c70-4f5b-9fd5-8ace4d010401",
   "metadata": {
    "tags": []
   },
   "source": [
    "#### These days approximately 5 babies out of 1,000 are named Luke, and the lifetime prevalence of leukemia is about 1.4%, or 14 out of every 1,000 people. ####\n",
    "#### If we believe these two factors to be independent and apply my \"Luke is for leukemia\" test to 1 million people, we'd expect to see a confusion matrix like:\n",
    "\n",
    "|            | Leukemia | No Leukemia | Total     |  \n",
    "|------------|----------|-------------|-----------|\n",
    "| \"Luke\"     | 70       | 4,930       | 5,000     |   \n",
    "| Not \"Luke\" | 13,930   | 981,070     | 995,000   |   \n",
    "| Total      | 14,000   | 986,000     | 1,000,000 |  "
   ]
  },
  {
   "cell_type": "markdown",
   "id": "883b9337-9f72-460e-ad0f-11a1c1fc45ee",
   "metadata": {},
   "source": [
    "#### We can then use these to compute various statistics about model performance. For example, `accuracy` is defined as the fraction of current predictions: ###"
   ]
  },
  {
   "cell_type": "code",
   "execution_count": 4,
   "id": "ce483791-9b7d-4614-993e-adf58d374b30",
   "metadata": {},
   "outputs": [
    {
     "name": "stdout",
     "output_type": "stream",
     "text": [
      "0.98114\n"
     ]
    }
   ],
   "source": [
    "def accuracy(tp:int, fp:int, fn:int, tn:int) -> float:\n",
    "    correct = tp + tn\n",
    "    total = tp + fp + fn + tn\n",
    "    return correct / total\n",
    "\n",
    "print(accuracy(70, 4930, 13930, 981070))"
   ]
  },
  {
   "cell_type": "markdown",
   "id": "05335c1d-e84a-41b6-bff1-6419b4b6a598",
   "metadata": {},
   "source": [
    "#### It's common to look at the combination of `precision` and `recall`. Precision measures how accurate our `positive` predictions were:"
   ]
  },
  {
   "cell_type": "code",
   "execution_count": 6,
   "id": "e7396d20-fda0-41c5-8767-0109ea39c9e4",
   "metadata": {},
   "outputs": [
    {
     "name": "stdout",
     "output_type": "stream",
     "text": [
      "0.014\n"
     ]
    }
   ],
   "source": [
    "def precision(tp:int, fp:int, fn:int, tn:int) -> float:\n",
    "    return tp / (tp + fp)\n",
    "\n",
    "print(precision(70, 4930, 13930, 981070))"
   ]
  },
  {
   "cell_type": "markdown",
   "id": "e79068c8-5f33-47d8-82de-1f8db1679b0f",
   "metadata": {},
   "source": [
    "#### And recall measures what fraction of the positives our model identified:"
   ]
  },
  {
   "cell_type": "code",
   "execution_count": 7,
   "id": "e3659f24-c926-4ab0-9f72-7b94d2467796",
   "metadata": {},
   "outputs": [
    {
     "name": "stdout",
     "output_type": "stream",
     "text": [
      "0.005\n"
     ]
    }
   ],
   "source": [
    "def recall(tp:int, fp:int, fn:int, tn:int) -> float:\n",
    "    return tp / (tp + fn)\n",
    "\n",
    "print(recall(70, 4930, 13930, 981070))"
   ]
  },
  {
   "cell_type": "markdown",
   "id": "07071581-6849-42ad-81a2-6c41d3f003dc",
   "metadata": {},
   "source": [
    "#### Sometimes precision and recall are combined into the `F1 score`, which is defined as:"
   ]
  },
  {
   "cell_type": "code",
   "execution_count": 8,
   "id": "680b772a-e3bd-4092-9b77-6a7912b4ef46",
   "metadata": {},
   "outputs": [],
   "source": [
    "def f1_score(tp:int, fp:int, fn:int, tn:int) -> float:\n",
    "    p = precision(tp, fp, fn, tn)\n",
    "    r = recall(tp, fp, fn, tn)\n",
    "    \n",
    "    return 2 * p * r / (p + r)"
   ]
  },
  {
   "cell_type": "code",
   "execution_count": null,
   "id": "79f9a34b-6a39-44bf-9589-f51e74362e14",
   "metadata": {},
   "outputs": [],
   "source": []
  }
 ],
 "metadata": {
  "kernelspec": {
   "display_name": "Python 3 (ipykernel)",
   "language": "python",
   "name": "python3"
  },
  "language_info": {
   "codemirror_mode": {
    "name": "ipython",
    "version": 3
   },
   "file_extension": ".py",
   "mimetype": "text/x-python",
   "name": "python",
   "nbconvert_exporter": "python",
   "pygments_lexer": "ipython3",
   "version": "3.10.5"
  }
 },
 "nbformat": 4,
 "nbformat_minor": 5
}

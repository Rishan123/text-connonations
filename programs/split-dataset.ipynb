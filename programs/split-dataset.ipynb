{
 "cells": [
  {
   "cell_type": "code",
   "execution_count": 6,
   "metadata": {},
   "outputs": [
    {
     "name": "stdout",
     "output_type": "stream",
     "text": [
      "750\n",
      "250\n"
     ]
    }
   ],
   "source": [
    "import random\n",
    "from typing import TypeVar, List, Tuple\n",
    "\n",
    "X = TypeVar('X')\n",
    "\n",
    "def split_data(data: List[X], prob: float) -> Tuple[List[X], List[X]]:\n",
    "    \"\"\"Split data into fractions [prob, 1 - prob]\"\"\"\n",
    "    data = data[:]\n",
    "    random.shuffle(data)\n",
    "    cut = int(len(data) * prob)\n",
    "    return data[:cut], data[cut:]\n",
    "\n",
    "data = [n for n in range(1000)]\n",
    "train, test = split_data(data, 0.75)\n",
    "\n",
    "# The proportions should be correct\n",
    "print(len(train))\n",
    "print(len(test))\n",
    "\n",
    "# And the original data should be preserved\n",
    "assert sorted(train+test) == data"
   ]
  },
  {
   "cell_type": "markdown",
   "metadata": {},
   "source": [
    "#### Often we'll have paired input variables and output variables. In that case, we need to make sure to put corresponding values together in either the training data or the test data: ####"
   ]
  },
  {
   "cell_type": "code",
   "execution_count": 7,
   "metadata": {},
   "outputs": [
    {
     "name": "stdout",
     "output_type": "stream",
     "text": [
      "750\n",
      "250\n"
     ]
    }
   ],
   "source": [
    "Y = TypeVar('Y')\n",
    "\n",
    "def train_test_split(xs: List[X],\n",
    "                     ys: List[Y],\n",
    "                    test_pct: float) -> Tuple[List[X], List[X], List[Y],\n",
    "                                                                List[Y]]:\n",
    "    # Generate the indices and split them\n",
    "    idxs = [i for i in range(len(xs))]\n",
    "    train_idxs, test_idxs = split_data(idxs, 1 - test_pct)\n",
    "\n",
    "    return ([xs[i] for i in train_idxs],  # x_train\n",
    "            [xs[i] for i in test_idxs],   # x_test\n",
    "            [ys[i] for i in train_idxs],  # y_train\n",
    "            [ys[i] for i in test_idxs])   # y_test\n",
    "\n",
    "xs = [x for x in range(1000)] # xs are 1...1000\n",
    "ys = [2 * x for x in xs] # each y_i is twice x_i\n",
    "x_train, x_test, y_train, y_test = train_test_split(xs, ys, 0.25)\n",
    "\n",
    "# Check that the proportions are correct\n",
    "print (len(x_train))\n",
    "print (len(x_test))\n",
    "\n",
    "# Check that all the corresponding data points are paired correctly\n",
    "assert all(y == 2 * x for x,y in zip(x_train,y_train))\n",
    "assert all(y == 2 * x for x,y in zip(x_test,y_test))\n"
   ]
  },
  {
   "cell_type": "markdown",
   "metadata": {},
   "source": [
    "#### After which you can do something like:\n",
    "```\n",
    "model = SomeKindOfModel()\n",
    "x_train, x_test, y_train, y_test = train_test_split(xs,ys,0.33)\n",
    "model.train(x_train, y_train)\n",
    "performance = model.test(x_test, y_test)\n",
    "\n",
    "```"
   ]
  },
  {
   "cell_type": "code",
   "execution_count": 3,
   "metadata": {},
   "outputs": [
    {
     "ename": "ModuleNotFoundError",
     "evalue": "No module named 'linear_algebra'",
     "output_type": "error",
     "traceback": [
      "\u001b[0;31m---------------------------------------------------------------------------\u001b[0m",
      "\u001b[0;31mModuleNotFoundError\u001b[0m                       Traceback (most recent call last)",
      "\u001b[1;32m/Users/aloksharma/Dropbox/Mac/Desktop/text-connonations/programs/split-dataset.ipynb Cell 5\u001b[0m in \u001b[0;36m<cell line: 2>\u001b[0;34m()\u001b[0m\n\u001b[1;32m      <a href='vscode-notebook-cell:/Users/aloksharma/Dropbox/Mac/Desktop/text-connonations/programs/split-dataset.ipynb#ch0000004?line=0'>1</a>\u001b[0m \u001b[39mimport\u001b[39;00m \u001b[39mml\u001b[39;00m\u001b[39m.\u001b[39;00m\u001b[39mlinear_algebra\u001b[39;00m\n\u001b[0;32m----> <a href='vscode-notebook-cell:/Users/aloksharma/Dropbox/Mac/Desktop/text-connonations/programs/split-dataset.ipynb#ch0000004?line=1'>2</a>\u001b[0m \u001b[39mimport\u001b[39;00m \u001b[39mml\u001b[39;00m\u001b[39m.\u001b[39;00m\u001b[39mneural_networks\u001b[39;00m\n",
      "File \u001b[0;32m~/Dropbox/Mac/Desktop/text-connonations/programs/ml/neural_networks.py:1\u001b[0m, in \u001b[0;36m<module>\u001b[0;34m\u001b[0m\n\u001b[0;32m----> 1\u001b[0m \u001b[39mfrom\u001b[39;00m \u001b[39mlinear_algebra\u001b[39;00m \u001b[39mimport\u001b[39;00m Vector, dot\n\u001b[1;32m      3\u001b[0m \u001b[39mdef\u001b[39;00m \u001b[39mstep_function\u001b[39m(x: \u001b[39mfloat\u001b[39m) \u001b[39m-\u001b[39m\u001b[39m>\u001b[39m \u001b[39mfloat\u001b[39m:\n\u001b[1;32m      4\u001b[0m     \u001b[39mreturn\u001b[39;00m \u001b[39m1.0\u001b[39m \u001b[39mif\u001b[39;00m x \u001b[39m>\u001b[39m\u001b[39m=\u001b[39m \u001b[39m0\u001b[39m \u001b[39melse\u001b[39;00m \u001b[39m0.0\u001b[39m\n",
      "\u001b[0;31mModuleNotFoundError\u001b[0m: No module named 'linear_algebra'"
     ]
    }
   ],
   "source": [
    "import ml.linear_algebra\n",
    "import ml.neural_networks"
   ]
  }
 ],
 "metadata": {
  "kernelspec": {
   "display_name": "Python 3.10.5 64-bit",
   "language": "python",
   "name": "python3"
  },
  "language_info": {
   "codemirror_mode": {
    "name": "ipython",
    "version": 3
   },
   "file_extension": ".py",
   "mimetype": "text/x-python",
   "name": "python",
   "nbconvert_exporter": "python",
   "pygments_lexer": "ipython3",
   "version": "3.10.5"
  },
  "orig_nbformat": 4,
  "vscode": {
   "interpreter": {
    "hash": "aee8b7b246df8f9039afb4144a1f6fd8d2ca17a180786b69acc140d282b71a49"
   }
  }
 },
 "nbformat": 4,
 "nbformat_minor": 2
}

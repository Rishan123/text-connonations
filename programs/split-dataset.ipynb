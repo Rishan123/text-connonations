{
 "cells": [
  {
   "cell_type": "markdown",
   "id": "6688cf60-7033-4e2c-8d40-1481e9b7b37f",
   "metadata": {},
   "source": [
    "# Split Dataset #"
   ]
  },
  {
   "cell_type": "markdown",
   "id": "58ff15b0-196a-4c6f-bbdb-8e51f55e8aef",
   "metadata": {
    "tags": []
   },
   "source": [
    "### Splitting the dataset so that (for example) two-thirds of it is used to train the model, after which we measure the model's performance on the remaining third"
   ]
  },
  {
   "cell_type": "code",
   "execution_count": 11,
   "id": "d9097d44-7c73-4aac-acbc-bb9a28e4969e",
   "metadata": {},
   "outputs": [],
   "source": [
    "import random\n",
    "from typing import *\n",
    "\n",
    "X = TypeVar('X') # Generic type to represent a data point #\n",
    "Y = TypeVar('Y') # Generic type to represent output variables #"
   ]
  },
  {
   "cell_type": "code",
   "execution_count": 12,
   "id": "9d801a61-5c9d-4121-9a80-d54e2ca2eb35",
   "metadata": {},
   "outputs": [],
   "source": [
    "def split_data(data: List[X], prob:float) -> Tuple[List[X], List[X]]:\n",
    "    # Split data into fractions [prob, 1 = prob] #\n",
    "    data = data[:]\n",
    "    random.shuffle(data)\n",
    "    cut = int(len(data) * prob)\n",
    "    return data[:cut], data[cut:]"
   ]
  },
  {
   "cell_type": "code",
   "execution_count": 13,
   "id": "7fba9200-4b56-4607-913b-d2617c8da8f2",
   "metadata": {},
   "outputs": [],
   "source": [
    "data = [n for n in range(1000)]\n",
    "train, test = split_data(data, 0.75)\n",
    "\n",
    "# The proportions should be correct #\n",
    "assert len(train) == 750\n",
    "assert len(test) == 250\n",
    "\n",
    "# And the originial data should be preserved (in some order) #\n",
    "assert sorted(train + test) == data"
   ]
  },
  {
   "cell_type": "markdown",
   "id": "cd4e16b2-06ea-4199-acce-0f66b5a8a42c",
   "metadata": {},
   "source": [
    "### Often, we'll have paired input variables and output variables. In that case, we need to make sure to put corresponding values together in either the training data or the test data:"
   ]
  },
  {
   "cell_type": "code",
   "execution_count": 16,
   "id": "9c89774d-83a0-4939-aab1-90d923764798",
   "metadata": {},
   "outputs": [],
   "source": [
    "def train_test_split(xs: List[X],\n",
    "                     ys: List[Y],\n",
    "                     test_pct: float) -> Tuple[List[X], List[X], List[Y],\n",
    "                                                                  List[Y]]:\n",
    "    # Generate the indices and split them #\n",
    "    idxs = [i for i in range(len(xs))]\n",
    "    train_idxs, test_idxs = split_data(idxs, 1 - test_pct)\n",
    "    \n",
    "    return ([xs[i] for i in train_idxs], # x_train #\n",
    "            [xs[i] for i in test_idxs],  # x_test #\n",
    "            [ys[i] for i in train_idxs], # y_train #\n",
    "            [ys[i] for i in test_idxs])  # y_test #"
   ]
  },
  {
   "cell_type": "code",
   "execution_count": 17,
   "id": "fff35f37-ab21-4096-818c-5669dffc38e1",
   "metadata": {},
   "outputs": [],
   "source": [
    "xs = [x for x in range(1000)] # xs are 1...1000\n",
    "ys = [2 * x for x in xs]     # each y_i is twice x_i\n",
    "x_train, x_test, y_train, y_test = train_test_split(xs, ys, 0.25)\n",
    "\n",
    "# Check that the proportions are correct\n",
    "assert len(x_train) == len(y_train) == 750\n",
    "assert len(x_test) == len(y_test) == 250\n",
    "\n",
    "# Check that the corresponding data points are paired correctly\n",
    "assert all(y == 2 * x for x, y in zip(x_train, y_train))\n",
    "assert all(y == 2 * x for x, y in zip(x_test, y_test))"
   ]
  },
  {
   "cell_type": "markdown",
   "id": "828fc2a2-15df-4df2-a2ee-d74f1e1f2847",
   "metadata": {},
   "source": [
    "### After which you can do something like:"
   ]
  },
  {
   "cell_type": "markdown",
   "id": "46f21f54-7109-4343-b0a6-50a8bba4954d",
   "metadata": {},
   "source": [
    "```\n",
    "model = SomeKindOfModel()\n",
    "x_train, x_test, y_train, y_test = train_test_split(xs, ys, 0.33)\n",
    "model.train(x_train, y_train)\n",
    "performance = model.test(x_test, y_test)\n",
    "```"
   ]
  }
 ],
 "metadata": {
  "kernelspec": {
   "display_name": "Python 3 (ipykernel)",
   "language": "python",
   "name": "python3"
  },
  "language_info": {
   "codemirror_mode": {
    "name": "ipython",
    "version": 3
   },
   "file_extension": ".py",
   "mimetype": "text/x-python",
   "name": "python",
   "nbconvert_exporter": "python",
   "pygments_lexer": "ipython3",
   "version": "3.10.5"
  }
 },
 "nbformat": 4,
 "nbformat_minor": 5
}

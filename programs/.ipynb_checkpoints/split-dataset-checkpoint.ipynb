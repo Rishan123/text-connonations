{
 "cells": [
  {
   "cell_type": "code",
   "execution_count": 8,
   "id": "d9097d44-7c73-4aac-acbc-bb9a28e4969e",
   "metadata": {},
   "outputs": [],
   "source": [
    "import random\n",
    "from typing import *\n",
    "\n",
    "X = TypeVar('X') # Generic type to represent a data point #\n",
    "Y = TypeVar('Y') # Generic type to represent output variables #"
   ]
  },
  {
   "cell_type": "code",
   "execution_count": 9,
   "id": "9d801a61-5c9d-4121-9a80-d54e2ca2eb35",
   "metadata": {},
   "outputs": [],
   "source": [
    "def split_data(data: List[X], prob:float) -> Tuple[List[X], List[X]]:\n",
    "    # Split data into fractions [prob, 1 = prob] #\n",
    "    data = data[:]\n",
    "    random.shuffle(data)\n",
    "    cut = int(len(data) * prob)\n",
    "    return data[:cut], data[cut:]\n",
    "\n",
    "def \n",
    "data = [n for n in range(1000)]\n",
    "train, test = split_data(data, 0.75)\n",
    "\n",
    "# The proportions should be correct #\n",
    "assert len(train) == 750\n",
    "assert len(test) == 250\n",
    "\n",
    "# And the originial data should be preserved (in some order) #\n",
    "assert sorted(train + test) == data"
   ]
  },
  {
   "cell_type": "code",
   "execution_count": null,
   "id": "9c89774d-83a0-4939-aab1-90d923764798",
   "metadata": {},
   "outputs": [],
   "source": []
  }
 ],
 "metadata": {
  "kernelspec": {
   "display_name": "Python 3 (ipykernel)",
   "language": "python",
   "name": "python3"
  },
  "language_info": {
   "codemirror_mode": {
    "name": "ipython",
    "version": 3
   },
   "file_extension": ".py",
   "mimetype": "text/x-python",
   "name": "python",
   "nbconvert_exporter": "python",
   "pygments_lexer": "ipython3",
   "version": "3.10.5"
  }
 },
 "nbformat": 4,
 "nbformat_minor": 5
}

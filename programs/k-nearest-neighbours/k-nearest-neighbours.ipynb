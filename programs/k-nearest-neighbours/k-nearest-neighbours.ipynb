{
 "cells": [
  {
   "cell_type": "markdown",
   "id": "a8101e3b-bc6b-4ffc-8cf4-09fbacdecc52",
   "metadata": {},
   "source": [
    "# K-Nearest Neighbours"
   ]
  },
  {
   "cell_type": "code",
   "execution_count": 13,
   "id": "601cbd07-24c7-4c9e-b78b-0a23d48fc2f6",
   "metadata": {},
   "outputs": [
    {
     "name": "stdout",
     "output_type": "stream",
     "text": [
      "b\n"
     ]
    }
   ],
   "source": [
    "from typing import List\n",
    "from collections import Counter\n",
    "\n",
    "def raw_majority_vote(labels: List[str]) -> str:\n",
    "    votes = Counter(labels)\n",
    "    winner, _ = votes.most_common(1)[0]\n",
    "    return winner\n",
    "print(raw_majority_vote(['a','b','c','b']))"
   ]
  },
  {
   "cell_type": "code",
   "execution_count": 3,
   "id": "29eb455d-2605-4d8e-870e-9110f6dd4890",
   "metadata": {},
   "outputs": [],
   "source": [
    "import requests\n",
    "\n",
    "data = requests.get(\n",
    "    \"https://archive.ics.uci.edu/ml/machine-learning-databases/iris/iris.data\"\n",
    ")\n",
    "\n",
    "with open('k-nearest-neighbours/iris.dat', 'w') as f:\n",
    "    f.write(data.text)"
   ]
  },
  {
   "cell_type": "markdown",
   "id": "589bb028-feb7-4e16-a257-2e6dd545c704",
   "metadata": {},
   "source": [
    "#### The data is comma-separated, with fields:\n",
    "`sepal_length, sepal_width, petal_length, petal_width, class`\n",
    "\n",
    "#### We'll try to build a model that can predict the class from the first 4 measurements"
   ]
  },
  {
   "cell_type": "code",
   "execution_count": 12,
   "id": "8120494a-9455-4eb6-952d-1f13c284271b",
   "metadata": {},
   "outputs": [
    {
     "ename": "NameError",
     "evalue": "name 'LabeledPoint' is not defined",
     "output_type": "error",
     "traceback": [
      "\u001b[0;31m---------------------------------------------------------------------------\u001b[0m",
      "\u001b[0;31mNameError\u001b[0m                                 Traceback (most recent call last)",
      "Input \u001b[0;32mIn [12]\u001b[0m, in \u001b[0;36m<cell line: 5>\u001b[0;34m()\u001b[0m\n\u001b[1;32m      2\u001b[0m \u001b[38;5;28;01mimport\u001b[39;00m \u001b[38;5;21;01mcsv\u001b[39;00m\n\u001b[1;32m      3\u001b[0m \u001b[38;5;28;01mfrom\u001b[39;00m \u001b[38;5;21;01mcollections\u001b[39;00m \u001b[38;5;28;01mimport\u001b[39;00m defaultdict\n\u001b[0;32m----> 5\u001b[0m \u001b[38;5;28;01mdef\u001b[39;00m \u001b[38;5;21mparse_iris_row\u001b[39m(row: List[\u001b[38;5;28mstr\u001b[39m]) \u001b[38;5;241m-\u001b[39m\u001b[38;5;241m>\u001b[39m \u001b[43mLabeledPoint\u001b[49m:\n\u001b[1;32m      6\u001b[0m     measurements \u001b[38;5;241m=\u001b[39m [\u001b[38;5;28mfloat\u001b[39m(value) \u001b[38;5;28;01mfor\u001b[39;00m value \u001b[38;5;129;01min\u001b[39;00m row[:\u001b[38;5;241m-\u001b[39m\u001b[38;5;241m1\u001b[39m]]\n\u001b[1;32m      7\u001b[0m     \u001b[38;5;66;03m# class is e.g. \"Iris-virginica\"; we want \"virginica\"\u001b[39;00m\n",
      "\u001b[0;31mNameError\u001b[0m: name 'LabeledPoint' is not defined"
     ]
    }
   ],
   "source": [
    "from typing import Dict\n",
    "import csv\n",
    "from collections import defaultdict\n",
    "\n",
    "def parse_iris_row(row: List[str]) -> LabeledPoint:\n",
    "    measurements = [float(value) for value in row[:-1]]\n",
    "    # class is e.g. \"Iris-virginica\"; we want \"virginica\"\n",
    "    label = row[-1].split(\"-\")[-1]\n",
    "    \n",
    "    return LabeledPoint(measurements, label)\n",
    "\n",
    "with open('k-nearest-neighbours/iris.dat') as f:\n",
    "    reader = csv.reader(f)\n",
    "    iris_data = [parse_iris_row(row) for row in reader]\n",
    "\n",
    "# We'll also group just the points by species/label so we can plot them \n",
    "points_by_species: Dict[str, List[Vector]] = defaultdict(list)\n",
    "for iris in iris_data:\n",
    "    points_by_species[iris.label].append(iris.point)"
   ]
  },
  {
   "cell_type": "markdown",
   "id": "5297d4c8-e239-4387-b5da-c7641b507bb0",
   "metadata": {},
   "source": [
    "## "
   ]
  }
 ],
 "metadata": {
  "kernelspec": {
   "display_name": "Python 3 (ipykernel)",
   "language": "python",
   "name": "python3"
  },
  "language_info": {
   "codemirror_mode": {
    "name": "ipython",
    "version": 3
   },
   "file_extension": ".py",
   "mimetype": "text/x-python",
   "name": "python",
   "nbconvert_exporter": "python",
   "pygments_lexer": "ipython3",
   "version": "3.10.5"
  }
 },
 "nbformat": 4,
 "nbformat_minor": 5
}
